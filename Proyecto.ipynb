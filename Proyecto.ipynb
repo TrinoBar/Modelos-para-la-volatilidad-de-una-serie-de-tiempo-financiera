{
 "cells": [
  {
   "cell_type": "code",
   "execution_count": 1,
   "id": "f7694676",
   "metadata": {},
   "outputs": [],
   "source": [
    "def Multiply(R,C):\n",
    "    Sum = 0\n",
    "    for i in range(len(R)):\n",
    "        Sum += R[i]*C[i]\n",
    "    return Sum\n",
    "\n",
    "def Extrae_Col(M,j):\n",
    "    Col = []\n",
    "    for i in range(len(M)):\n",
    "        Col.append(M[i][j])\n",
    "    return Col\n",
    "\n",
    "def f(A,B):\n",
    "    for r in range(len(A)):\n",
    "        for c in range(len(B)):\n",
    "            Column_B = Extrae_Col(B,c)\n",
    "            if r == c:\n",
    "                if Multiply(A[r],Column_B) == 1:\n",
    "                    continue\n",
    "                else:\n",
    "                    return False\n",
    "            if not r == c:\n",
    "                if Multiply(A[r],Column_B) == 0:\n",
    "                    continue\n",
    "                else:\n",
    "                    return False\n",
    "    return True"
   ]
  },
  {
   "cell_type": "code",
   "execution_count": 2,
   "id": "24413a09",
   "metadata": {},
   "outputs": [],
   "source": [
    "def Fiboo(n):\n",
    "    if n == 1:\n",
    "        return 1\n",
    "    elif n == 2:\n",
    "        return 1\n",
    "    return Fiboo(n-1)+Fiboo(n-2)"
   ]
  },
  {
   "cell_type": "code",
   "execution_count": 3,
   "id": "87f9cc4d",
   "metadata": {},
   "outputs": [],
   "source": [
    "def Factorial(n):\n",
    "    if n==1:\n",
    "        return 1\n",
    "    else:\n",
    "        return n*Factorial(n-1)"
   ]
  },
  {
   "cell_type": "code",
   "execution_count": 4,
   "id": "e75af242",
   "metadata": {},
   "outputs": [],
   "source": [
    "def POL(x,Pts,i,j):   ###   p_i_j\n",
    "    if i==j:\n",
    "        return Pts[i][1]\n",
    "    else: return (   POL(x,Pts,i,j-1)*(x-Pts[j][0])- (x-Pts[i][0])*POL(x,Pts,i+1,j)  )/(Pts[i][0]-Pts[j][0])"
   ]
  },
  {
   "cell_type": "code",
   "execution_count": 8,
   "id": "b17f11cb",
   "metadata": {},
   "outputs": [],
   "source": [
    "import matplotlib.pyplot as plt\n",
    "\n",
    "Pts = [[0,1],[1,3],[2,4],[3,-1],[4,3],[5,3]]\n",
    "####    recta que pasa por 1"
   ]
  },
  {
   "cell_type": "code",
   "execution_count": 7,
   "id": "24430d5b",
   "metadata": {},
   "outputs": [
    {
     "data": {
      "text/plain": [
       "[<matplotlib.lines.Line2D at 0x7fbc6b972850>]"
      ]
     },
     "execution_count": 7,
     "metadata": {},
     "output_type": "execute_result"
    },
    {
     "data": {
      "image/png": "[encoded data removed]",
      "text/plain": [
       "<Figure size 432x288 with 1 Axes>"
      ]
     },
     "metadata": {
      "needs_background": "light"
     },
     "output_type": "display_data"
    }
   ],
   "source": [
    "T = [0.01*i for i in range(500+1)]\n",
    "y = [POL(t,Pts,0,5) for t in T]\n",
    "y_04 = [POL(t,Pts,0,4) for t in T]\n",
    "y_15= [POL(t,Pts,1,5) for t in T]\n",
    "plt.plot(T,y,color=\"red\")\n",
    "plt.plot(T,y_04,color=\"blue\")\n",
    "plt.plot(T,y_15,color=\"green\")"
   ]
  },
  {
   "cell_type": "code",
   "execution_count": 7,
   "id": "89443182",
   "metadata": {},
   "outputs": [
    {
     "name": "stdout",
     "output_type": "stream",
     "text": [
      "- x^7 + 2x^6 -2x^4 + 3x^2 - x^1 + 8x^0 \n"
     ]
    }
   ],
   "source": [
    "global Pol_array\n",
    "Pol_array = [-1,2,0,-2,0,3,-1,8]\n",
    "\n",
    "def Poli(x):\n",
    "    n = len(Pol_array)-1\n",
    "    aux = 0\n",
    "    \n",
    "    for a_i in Pol_array:\n",
    "        aux += a_i*x**n\n",
    "        n += -1\n",
    "    return aux\n",
    "\n",
    "polinomio = ''\n",
    "n = len(Pol_array)-1\n",
    "for ai in Pol_array:\n",
    "    if ai == 0:\n",
    "        n += -1\n",
    "    else:\n",
    "        if ai==1:\n",
    "            polinomio+= \"x^\"+str(n)+\" \"\n",
    "        elif ai==-1:\n",
    "            polinomio+= \"- x^\"+str(n)+\" \"\n",
    "        else:\n",
    "            if ai>0:\n",
    "                polinomio+= \"+ \"+str(ai)+\"x^\"+str(n)+\" \"\n",
    "            else:\n",
    "                polinomio+= str(ai)+\"x^\"+str(n)+\" \"\n",
    "        n += -1\n",
    "\n",
    "print(polinomio)"
   ]
  },
  {
   "cell_type": "code",
   "execution_count": 8,
   "id": "80f33a02",
   "metadata": {},
   "outputs": [
    {
     "data": {
      "text/plain": [
       "[<matplotlib.lines.Line2D at 0x7f93f08d0b80>]"
      ]
     },
     "execution_count": 8,
     "metadata": {},
     "output_type": "execute_result"
    },
    {
     "data": {
      "image/png": "[encoded data removed]",
      "text/plain": [
       "<Figure size 432x288 with 1 Axes>"
      ]
     },
     "metadata": {
      "needs_background": "light"
     },
     "output_type": "display_data"
    }
   ],
   "source": [
    "Y_pol= [Poli(t) for t in T]\n",
    "plt.plot(T,Y_pol,color=\"red\")"
   ]
  },
  {
   "cell_type": "code",
   "execution_count": 9,
   "id": "ebc54ac5",
   "metadata": {},
   "outputs": [],
   "source": [
    "MaT_Problema3b = []\n",
    "for i,xi in enumerate(Pts):\n",
    "    row = []\n",
    "    row = [(xi[0])**(len(Pts)-1-i) for j in range(len(Pts))]\n",
    "    MaT_Problema3b.append(row)"
   ]
  },
  {
   "cell_type": "code",
   "execution_count": 10,
   "id": "31c40fb7",
   "metadata": {},
   "outputs": [
    {
     "data": {
      "text/plain": [
       "[[0, 0, 0, 0, 0, 0],\n",
       " [1, 1, 1, 1, 1, 1],\n",
       " [8, 8, 8, 8, 8, 8],\n",
       " [9, 9, 9, 9, 9, 9],\n",
       " [4, 4, 4, 4, 4, 4],\n",
       " [1, 1, 1, 1, 1, 1]]"
      ]
     },
     "execution_count": 10,
     "metadata": {},
     "output_type": "execute_result"
    }
   ],
   "source": [
    "MaT_Problema3b"
   ]
  },
  {
   "cell_type": "markdown",
   "id": "f229fccb",
   "metadata": {},
   "source": [
    "##  Probelma 4"
   ]
  },
  {
   "cell_type": "code",
   "execution_count": 11,
   "id": "7f76038f",
   "metadata": {},
   "outputs": [],
   "source": [
    "def revisa_renglon(r):\n",
    "    ###    ingresams renglon\n",
    "    temp = r[0]\n",
    "    for elemento in r:\n",
    "        if elemento == temp:\n",
    "            continue\n",
    "        else:\n",
    "            return -2\n",
    "    return temp\n",
    "\n",
    "def chequeo(Tablero):\n",
    "    aux = 0\n",
    "    for i in range(len(Tablero)):\n",
    "        for j in range(len(Tablero)):\n",
    "            aux += Tablero[i][j]\n",
    "    if abs(aux) >1:\n",
    "        return 1\n",
    "    \n",
    "    ###  revisar si alguien gana\n",
    "    for r in Tablero:\n",
    "        if revisa_renglon(r)==1:\n",
    "            return 3\n",
    "        elif revisa_renglon(r)==-1:\n",
    "            return 2\n",
    "    \n",
    "    for i in range(len(Tablero)):\n",
    "        if revisa_renglon(Tablero[:][i])==1:\n",
    "            return 3\n",
    "        elif revisa_renglon(Tablero[:][i])==-1:\n",
    "            return 2\n",
    "    \n",
    "    D1 = [Tablero[i][i] for i in range(len(Tablero))]\n",
    "    D2 = [Tablero[i][len(Tablero)-1-i] for i in range(len(Tablero))]\n",
    "    \n",
    "    if revisa_renglon(D1)==1:\n",
    "            return 3\n",
    "    elif revisa_renglon(D1)==-1:\n",
    "            return 2\n",
    "    if revisa_renglon(D2)==1:\n",
    "            return 3\n",
    "    elif revisa_renglon(D2)==-1:\n",
    "            return 2\n",
    "    return 4"
   ]
  },
  {
   "cell_type": "code",
   "execution_count": 12,
   "id": "c9816632",
   "metadata": {},
   "outputs": [],
   "source": [
    "import numpy as np"
   ]
  },
  {
   "cell_type": "code",
   "execution_count": 13,
   "id": "4a7558a0",
   "metadata": {},
   "outputs": [
    {
     "data": {
      "text/plain": [
       "1"
      ]
     },
     "execution_count": 13,
     "metadata": {},
     "output_type": "execute_result"
    }
   ],
   "source": [
    "Tablerillo = [[-1,1,-1],[1,-1,1],[1,0,-1]]\n",
    "Tablerillo2 = [np.random.randint(-1,1,3) for i in range(3)]\n",
    "chequeo(Tablerillo)\n",
    "chequeo(Tablerillo2)"
   ]
  },
  {
   "cell_type": "code",
   "execution_count": 14,
   "id": "1ff52162",
   "metadata": {},
   "outputs": [
    {
     "name": "stdout",
     "output_type": "stream",
     "text": [
      "4\n",
      "[array([ 0, -1,  1]), array([-1, -1,  1]), array([ 1,  0, -1])]\n",
      "1\n",
      "[array([ 1, -1, -1]), array([0, 1, 0]), array([1, 0, 1])]\n",
      "4\n",
      "[array([ 0, -1, -1]), array([ 1, -1,  0]), array([0, 1, 1])]\n",
      "4\n",
      "[array([1, 0, 1]), array([-1,  1,  0]), array([ 0, -1,  0])]\n",
      "1\n",
      "[array([-1,  1,  0]), array([ 1, -1,  1]), array([0, 1, 0])]\n",
      "2\n",
      "[array([0, 0, 0]), array([-1, -1, -1]), array([1, 0, 1])]\n",
      "1\n",
      "[array([ 1, -1,  0]), array([1, 1, 0]), array([-1,  1,  0])]\n",
      "4\n",
      "[array([0, 1, 0]), array([ 1, -1, -1]), array([-1,  1, -1])]\n",
      "4\n",
      "[array([ 0, -1,  0]), array([1, 0, 0]), array([ 1,  1, -1])]\n",
      "4\n",
      "[array([-1,  1,  0]), array([0, 0, 0]), array([ 1,  0, -1])]\n"
     ]
    }
   ],
   "source": [
    "for i in range(10):\n",
    "    Tablerillo2 = [np.random.randint(-1,2,3) for i in range(3)]\n",
    "    chequeo(Tablerillo2)\n",
    "    print(chequeo(Tablerillo2))\n",
    "    print(Tablerillo2)"
   ]
  },
  {
   "cell_type": "code",
   "execution_count": 24,
   "id": "78e383a5",
   "metadata": {},
   "outputs": [],
   "source": [
    "def GetCirculos(P,r=2):\n",
    "    r_0 = r-2\n",
    "    a = 2\n",
    "    b = 3+2*r_0\n",
    "    c = -P\n",
    "    N = (-b+(b**2-4*c*a)**(1/2))/(2*a)\n",
    "    \n",
    "    return int(N)\n",
    "    "
   ]
  },
  {
   "cell_type": "code",
   "execution_count": 20,
   "id": "47d78c44",
   "metadata": {},
   "outputs": [],
   "source": [
    "def getAnillos(P, r):\n",
    "    circulos = 0\n",
    "    P = P - (((r+1)**2)-((r)**2))\n",
    "    while (P >= 0):\n",
    "        circulos += 1\n",
    "        r += 2\n",
    "        P = P - (((r+1)**2)-((r)**2))\n",
    "    return circulos"
   ]
  },
  {
   "cell_type": "code",
   "execution_count": 36,
   "id": "feaa8481",
   "metadata": {},
   "outputs": [],
   "source": [
    "def Poli_v3(Pts):\n",
    "    \n",
    "    a11 = Pts[0][0]**2-Pts[1][0]**2\n",
    "    a12 = Pts[0][0]-Pts[1][0]\n",
    "    a21 = Pts[2][0]**2-Pts[1][0]**2\n",
    "    a22 = Pts[2][0]-Pts[1][0]\n",
    "    v1 = Pts[0][1]-Pts[1][1]\n",
    "    v2 = Pts[2][1]-Pts[1][1]\n",
    "    \n",
    "    Det = a11*a22-a12*a21\n",
    "    a = (v1*a22-v2*a21)/Det\n",
    "    b = (a11*v2-a12*v1)/Det\n",
    "    c = Pts[0][1] -a*Pts[0][0]**2-b*Pts[0][0]\n",
    "    \n",
    "    return [a,b,c]"
   ]
  },
  {
   "cell_type": "code",
   "execution_count": 39,
   "id": "16a6707f",
   "metadata": {},
   "outputs": [],
   "source": [
    "PTS = [[1,2],[3,-4],[4,-4]]\n",
    "global abc\n",
    "abc = Poli_v3(PTS)"
   ]
  },
  {
   "cell_type": "code",
   "execution_count": 40,
   "id": "cb95ab80",
   "metadata": {},
   "outputs": [],
   "source": [
    "def Pol_v4(x):\n",
    "    n=len(abc)-1\n",
    "    return x**2*abc[0]+x*abc[1]+abc[2]"
   ]
  },
  {
   "cell_type": "code",
   "execution_count": 43,
   "id": "3f0ce6da",
   "metadata": {},
   "outputs": [
    {
     "data": {
      "text/plain": [
       "[<matplotlib.lines.Line2D at 0x7f93ef1786a0>]"
      ]
     },
     "execution_count": 43,
     "metadata": {},
     "output_type": "execute_result"
    },
    {
     "data": {
      "image/png": "[encoded data removed]",
      "text/plain": [
       "<Figure size 432x288 with 1 Axes>"
      ]
     },
     "metadata": {
      "needs_background": "light"
     },
     "output_type": "display_data"
    }
   ],
   "source": [
    "SEQ = [i*0.01 for i in range(500+1)]\n",
    "SEQ_Y = [Pol_v4(x) for x in SEQ]\n",
    "\n",
    "plt.plot(SEQ,SEQ_Y)"
   ]
  },
  {
   "cell_type": "code",
   "execution_count": 11,
   "id": "7cf0a104",
   "metadata": {},
   "outputs": [],
   "source": [
    "def Area(x_1, x_2, x_3):\n",
    "    ###     x_i  = [x,y]\n",
    "    a = x_1[0]-x_2[0]\n",
    "    b = x_1[1]-x_2[1]\n",
    "    x = x_1[0]-x_3[0]\n",
    "    y = x_1[1]-x_3[1]\n",
    "    \n",
    "    return abs(a*y-b*x)\n",
    "\n",
    "def In_Triangle(Pts_x, Pts_y, x, y):\n",
    "    A_3 = Area([Pts_x[0],Pts_y[0]], [Pts_x[1],Pts_y[1]], [x,y] )\n",
    "    A_2 = Area([Pts_x[0],Pts_y[0]], [Pts_x[2],Pts_y[2]], [x,y] )\n",
    "    A_1 = Area([Pts_x[2],Pts_y[2]], [Pts_x[1],Pts_y[1]], [x,y] )\n",
    "    A = Area([Pts_x[0],Pts_y[0]], [Pts_x[1],Pts_y[1]], [Pts_x[2],Pts_y[2]] )\n",
    "    \n",
    "    if A == A_2+A_3+A_1 :\n",
    "        return True\n",
    "    return False\n",
    "\n",
    "def Test_Point_In_Polygon(Pts_x, Pts_y, x, y):\n",
    "    if not len(Pts_x) == len(Pts_y):\n",
    "        return False\n",
    "    if len(Pts_x)<3:\n",
    "        return False\n",
    "    if In_Triangle([Pts_x[0],Pts_x[-1],Pts_x[len(Pts_x)-2]], [Pts_y[0],Pts_y[-1],Pts_y[len(Pts_y)-2]] ,x,y):\n",
    "        return True\n",
    "    return Test_Point_In_Polygon(Pts_x[:-1], Pts_y[:-1], x, y)"
   ]
  },
  {
   "cell_type": "code",
   "execution_count": 15,
   "id": "90d73a17",
   "metadata": {},
   "outputs": [
    {
     "name": "stdout",
     "output_type": "stream",
     "text": [
      "llorar\n"
     ]
    }
   ],
   "source": [
    "Pts_x = [0,4,4,0]\n",
    "Pts_y = [0,4,0,4]\n",
    "\n",
    "x = 2\n",
    "y = 3\n",
    "\n",
    "if Test_Point_In_Polygon(Pts_x, Pts_y, x, y):\n",
    "    print(\"Win\")\n",
    "else:\n",
    "    print(\"llorar\")"
   ]
  },
  {
   "cell_type": "code",
   "execution_count": null,
   "id": "9f624be8",
   "metadata": {},
   "outputs": [],
   "source": []
  }
 ],
 "metadata": {
  "kernelspec": {
   "display_name": "Python 3 (ipykernel)",
   "language": "python",
   "name": "python3"
  },
  "language_info": {
   "codemirror_mode": {
    "name": "ipython",
    "version": 3
   },
   "file_extension": ".py",
   "mimetype": "text/x-python",
   "name": "python",
   "nbconvert_exporter": "python",
   "pygments_lexer": "ipython3",
   "version": "3.8.10"
  }
 },
 "nbformat": 4,
 "nbformat_minor": 5
}
